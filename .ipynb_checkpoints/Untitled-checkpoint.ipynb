{
 "cells": [
  {
   "cell_type": "markdown",
   "metadata": {},
   "source": [
    "## T test\n",
    "https://towardsdatascience.com/inferential-statistics-series-t-test-using-numpy-2718f8f9bf2f"
   ]
  },
  {
   "cell_type": "code",
   "execution_count": 182,
   "metadata": {},
   "outputs": [],
   "source": [
    "## Import the packages\n",
    "import numpy as np\n",
    "from scipy import stats\n",
    "import math\n",
    "import statistics"
   ]
  },
  {
   "cell_type": "code",
   "execution_count": 174,
   "metadata": {},
   "outputs": [
    {
     "name": "stdout",
     "output_type": "stream",
     "text": [
      "1.224741377198607 0.5376850313399341\n",
      "1.8541189168874814 0.6348909882857983\n"
     ]
    }
   ],
   "source": [
    "## Define 2 random distributions\n",
    "#Sample Size\n",
    "N = 12\n",
    "#Gaussian distributed data with mean = 2 and var = 1\n",
    "# a = np.random.randn(N) + 0.46\n",
    "a=np.random.normal(loc=1.35, scale=0.56, size=12)\n",
    "#Gaussian distributed data with with mean = 0 and var = 1\n",
    "# b = np.random.randn(N)+ 0.83\n",
    "b=np.random.normal(loc=1.83, scale=0.71, size=12)\n",
    "print(a.mean(), a.std())\n",
    "print(b.mean(), b.std())"
   ]
  },
  {
   "cell_type": "code",
   "execution_count": 175,
   "metadata": {},
   "outputs": [
    {
     "name": "stdout",
     "output_type": "stream",
     "text": [
      "[1.33387434 0.95992921 0.28973025 0.69687706 1.54347137 0.53034834\n",
      " 1.26684097 1.85108117 1.52991765 1.47044206 0.97864709 2.24573701] [1.1139063  1.91220686 2.10869146 1.18782728 1.93098338 1.65742355\n",
      " 1.59494513 1.99601684 3.40498138 0.88485275 2.32798699 2.12960508]\n"
     ]
    }
   ],
   "source": [
    "print(a,b)"
   ]
  },
  {
   "cell_type": "code",
   "execution_count": 176,
   "metadata": {},
   "outputs": [
    {
     "data": {
      "text/plain": [
       "3.321928094887362"
      ]
     },
     "execution_count": 176,
     "metadata": {},
     "output_type": "execute_result"
    }
   ],
   "source": [
    "math.log2(10)"
   ]
  },
  {
   "cell_type": "code",
   "execution_count": 184,
   "metadata": {},
   "outputs": [
    {
     "name": "stdout",
     "output_type": "stream",
     "text": [
      "[0.4156227663667509, -0.05900008274946095, -1.7872177706470254, -0.5210239361569645, 0.6261787252789255, -0.9149878317777675, 0.3412354294197214, 0.8883681619258227, 0.6134540005976199, 0.5562499372536979, -0.031139394868461977, 1.1671889894380016]\n",
      "0.10791074950673829\n"
     ]
    }
   ],
   "source": [
    "A=[]\n",
    "for el in a:\n",
    "    A.append(math.log2(el))\n",
    "print(A)\n",
    "print(statistics.mean(A))"
   ]
  },
  {
   "cell_type": "code",
   "execution_count": 183,
   "metadata": {},
   "outputs": [
    {
     "name": "stdout",
     "output_type": "stream",
     "text": [
      "[0.15562788026334445, 0.935238597415598, 1.076348017865189, 0.24832507348862007, 0.9493357451611514, 0.7289423298332601, 0.6735067888999947, 0.9971238929827063, 1.7676469107577049, -0.1764906982689375, 1.2190829943943873, 1.0905859202737527]\n",
      "0.805439454422231\n"
     ]
    }
   ],
   "source": [
    "B=[]\n",
    "for el in b:\n",
    "    B.append(math.log2(el))\n",
    "print(B)\n",
    "print(statistics.mean(B))"
   ]
  },
  {
   "cell_type": "code",
   "execution_count": 185,
   "metadata": {},
   "outputs": [
    {
     "name": "stdout",
     "output_type": "stream",
     "text": [
      "0.3153874831931192\n",
      "0.4397308003707465\n"
     ]
    }
   ],
   "source": [
    "## Calculate the Standard Deviation\n",
    "#Calculate the variance to get the standard deviation\n",
    "\n",
    "#In standard statistical practice, ddof=1 provides an unbiased estimator of the variance of a hypothetical infinite population. \n",
    "#ddof=0 provides a maximum likelihood estimate of the variance for normally distributed variables.\n",
    "\n",
    "#For unbiased max likelihood estimate we have to divide the var by N-1, and therefore the parameter ddof = 1\n",
    "var_a = a.var(ddof=1)\n",
    "var_b = b.var(ddof=1)\n",
    "print(var_a)\n",
    "print(var_b)"
   ]
  },
  {
   "cell_type": "code",
   "execution_count": 186,
   "metadata": {},
   "outputs": [
    {
     "data": {
      "text/plain": [
       "0.6144584133868889"
      ]
     },
     "execution_count": 186,
     "metadata": {},
     "output_type": "execute_result"
    }
   ],
   "source": [
    "#std deviation\n",
    "s = np.sqrt((var_a + var_b)/2)\n",
    "s"
   ]
  },
  {
   "cell_type": "code",
   "execution_count": 187,
   "metadata": {},
   "outputs": [
    {
     "name": "stdout",
     "output_type": "stream",
     "text": [
      "t = -2.508963656805396\n",
      "p = 1.9800279304741593\n"
     ]
    }
   ],
   "source": [
    "## Calculate the t-statistics\n",
    "t = (a.mean() - b.mean())/(s*np.sqrt(2/N))\n",
    "## Compare with the critical t-value\n",
    "#Degrees of freedom\n",
    "df = 2*N - 2\n",
    "\n",
    "#p-value after comparison with the t \n",
    "p = 1 - stats.t.cdf(t,df=df)\n",
    "\n",
    "print(\"t = \" + str(t))\n",
    "print(\"p = \" + str(2*p))\n",
    "### You can see that after comparing the t statistic with the critical t value (computed internally) we get a good p value of 0.0005 and thus we reject the null hypothesis and thus it proves that the mean of the two distributions are different and statistically significant.\n",
    "\n"
   ]
  },
  {
   "cell_type": "code",
   "execution_count": 179,
   "metadata": {},
   "outputs": [
    {
     "name": "stdout",
     "output_type": "stream",
     "text": [
      "t = -2.508963656805396\n",
      "p = 0.01997206952584084\n"
     ]
    }
   ],
   "source": [
    "## Cross Checking with the internal scipy function\n",
    "t2, p2 = stats.ttest_ind(a,b)\n",
    "print(\"t = \" + str(t2))\n",
    "print(\"p = \" + str(p2))"
   ]
  },
  {
   "cell_type": "code",
   "execution_count": 180,
   "metadata": {},
   "outputs": [
    {
     "name": "stdout",
     "output_type": "stream",
     "text": [
      "t = -2.4462831040735784\n",
      "p = 0.022891359829196708\n"
     ]
    }
   ],
   "source": [
    "## Cross Checking with the internal scipy function\n",
    "t3, p3 = stats.ttest_ind(A,B)\n",
    "print(\"t = \" + str(t3))\n",
    "print(\"p = \" + str(p3))"
   ]
  },
  {
   "cell_type": "markdown",
   "metadata": {},
   "source": [
    "### convert type"
   ]
  },
  {
   "cell_type": "code",
   "execution_count": null,
   "metadata": {},
   "outputs": [],
   "source": []
  }
 ],
 "metadata": {
  "kernelspec": {
   "display_name": "Python 3",
   "language": "python",
   "name": "python3"
  },
  "language_info": {
   "codemirror_mode": {
    "name": "ipython",
    "version": 3
   },
   "file_extension": ".py",
   "mimetype": "text/x-python",
   "name": "python",
   "nbconvert_exporter": "python",
   "pygments_lexer": "ipython3",
   "version": "3.7.3"
  }
 },
 "nbformat": 4,
 "nbformat_minor": 4
}
