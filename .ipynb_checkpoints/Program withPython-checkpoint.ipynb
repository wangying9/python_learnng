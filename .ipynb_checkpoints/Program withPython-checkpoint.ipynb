{
 "cells": [
  {
   "cell_type": "markdown",
   "metadata": {},
   "source": [
    "# 6/22, 9:00-9:30"
   ]
  },
  {
   "cell_type": "markdown",
   "metadata": {},
   "source": [
    "## control code"
   ]
  },
  {
   "cell_type": "code",
   "execution_count": 2,
   "metadata": {},
   "outputs": [
    {
     "name": "stdout",
     "output_type": "stream",
     "text": [
      "c:\\Users\\ywang\n"
     ]
    }
   ],
   "source": [
    "# \\ is the escape code and has two to show the '\\'\n",
    "f1='c:\\\\Users\\\\ywang'\n",
    "print(f1)"
   ]
  },
  {
   "cell_type": "code",
   "execution_count": 3,
   "metadata": {},
   "outputs": [
    {
     "name": "stdout",
     "output_type": "stream",
     "text": [
      "A\n",
      "B\n",
      "C\n"
     ]
    }
   ],
   "source": [
    "print ('A\\nB\\nC')#\\n change line"
   ]
  },
  {
   "cell_type": "code",
   "execution_count": 4,
   "metadata": {},
   "outputs": [
    {
     "name": "stdout",
     "output_type": "stream",
     "text": [
      "D\tE\tF\n"
     ]
    }
   ],
   "source": [
    "print('D\\tE\\tF') #\\t for tab"
   ]
  },
  {
   "cell_type": "code",
   "execution_count": 5,
   "metadata": {},
   "outputs": [
    {
     "name": "stdout",
     "output_type": "stream",
     "text": [
      "WX\bYZ\n"
     ]
    }
   ],
   "source": [
    "print('WX\\bYZ')# \\b for backspace"
   ]
  },
  {
   "cell_type": "code",
   "execution_count": 6,
   "metadata": {},
   "outputs": [
    {
     "name": "stdout",
     "output_type": "stream",
     "text": [
      "1\u00072\u00073\u00074\u00075\n"
     ]
    }
   ],
   "source": [
    "print('1\\a2\\a3\\a4\\a5')#\\a fr alert "
   ]
  },
  {
   "cell_type": "code",
   "execution_count": 7,
   "metadata": {},
   "outputs": [
    {
     "name": "stdout",
     "output_type": "stream",
     "text": [
      "Do you know a \"word\" ?\n"
     ]
    }
   ],
   "source": [
    "print('Do you know a \"word\" ?')"
   ]
  },
  {
   "cell_type": "code",
   "execution_count": 8,
   "metadata": {},
   "outputs": [
    {
     "name": "stdout",
     "output_type": "stream",
     "text": [
      "Do you know a 'word'?\n"
     ]
    }
   ],
   "source": [
    "print(\"Do you know a 'word'?\")"
   ]
  },
  {
   "cell_type": "code",
   "execution_count": 9,
   "metadata": {},
   "outputs": [
    {
     "name": "stdout",
     "output_type": "stream",
     "text": [
      "Do you know a \"word\"?\n"
     ]
    }
   ],
   "source": [
    "print(\"Do you know a \\\"word\\\"?\") # use the same quatations"
   ]
  },
  {
   "cell_type": "code",
   "execution_count": 10,
   "metadata": {},
   "outputs": [
    {
     "name": "stdout",
     "output_type": "stream",
     "text": [
      "Do you know a 'word' ?\n"
     ]
    }
   ],
   "source": [
    "print('Do you know a \\'word\\' ?') # use the same quatations"
   ]
  },
  {
   "cell_type": "markdown",
   "metadata": {},
   "source": [
    "## Control the print function"
   ]
  },
  {
   "cell_type": "code",
   "execution_count": 13,
   "metadata": {},
   "outputs": [
    {
     "name": "stdout",
     "output_type": "stream",
     "text": [
      "Do you know a \"word\"?Yes\n"
     ]
    }
   ],
   "source": [
    "print('Do you know a \"word\"?', end='')# end='' is a key argument, keep cursor at the end of the line\n",
    "print(\"Yes\")"
   ]
  },
  {
   "cell_type": "code",
   "execution_count": 14,
   "metadata": {},
   "outputs": [
    {
     "name": "stdout",
     "output_type": "stream",
     "text": [
      "Do you know a \"word\"?\n",
      "Yes\n"
     ]
    }
   ],
   "source": [
    "print('Do you know a \"word\"?')# usually cursor go to another line\n",
    "print(\"Yes\")"
   ]
  },
  {
   "cell_type": "code",
   "execution_count": 15,
   "metadata": {},
   "outputs": [
    {
     "name": "stdout",
     "output_type": "stream",
     "text": [
      "Do you know a \"word\"?\n",
      "Yes\n"
     ]
    }
   ],
   "source": [
    "print('Do you know a \"word\"?', end='\\n')#\\n indicate a new line\n",
    "print(\"Yes\")"
   ]
  },
  {
   "cell_type": "code",
   "execution_count": 16,
   "metadata": {},
   "outputs": [
    {
     "name": "stdout",
     "output_type": "stream",
     "text": [
      "\n"
     ]
    }
   ],
   "source": [
    "print(end='\\n')#print a balnk line"
   ]
  },
  {
   "cell_type": "code",
   "execution_count": 17,
   "metadata": {},
   "outputs": [
    {
     "name": "stdout",
     "output_type": "stream",
     "text": [
      "\n"
     ]
    }
   ],
   "source": [
    "print()#print a balnk line"
   ]
  },
  {
   "cell_type": "code",
   "execution_count": 20,
   "metadata": {},
   "outputs": [
    {
     "name": "stdout",
     "output_type": "stream",
     "text": [
      "1 2 3 4\n",
      "1234\n",
      "1,2,3,4\n",
      "1:2:3:4\n",
      "1-------2-------3-------4\n"
     ]
    }
   ],
   "source": [
    "x,y,z,w=1,2,3,4\n",
    "print(x,y,z,w)\n",
    "print(x,y,z,w, sep='')#remove the single space between items\n",
    "print(x,y,z,w, sep=',')\n",
    "print(x,y,z,w, sep=':')\n",
    "print(x,y,z,w, sep='-------')"
   ]
  },
  {
   "cell_type": "markdown",
   "metadata": {},
   "source": [
    "## Expression and assignment"
   ]
  },
  {
   "cell_type": "code",
   "execution_count": 24,
   "metadata": {},
   "outputs": [
    {
     "name": "stdout",
     "output_type": "stream",
     "text": [
      "8.333333333333334\n",
      "8\n",
      "1\n"
     ]
    }
   ],
   "source": [
    "print(25/3)\n",
    "print(25//3)#floor\n",
    "print(25%3)#reminder"
   ]
  },
  {
   "cell_type": "code",
   "execution_count": 25,
   "metadata": {},
   "outputs": [
    {
     "name": "stdout",
     "output_type": "stream",
     "text": [
      "-3 4 0\n"
     ]
    }
   ],
   "source": [
    "x, y, z = 3, -4, 0 \n",
    "x = -x \n",
    "y = -y \n",
    "z = -z \n",
    "print(x, y, z)"
   ]
  },
  {
   "cell_type": "code",
   "execution_count": 26,
   "metadata": {},
   "outputs": [
    {
     "name": "stdout",
     "output_type": "stream",
     "text": [
      "3.3333333333333335 0.3 3 0\n"
     ]
    }
   ],
   "source": [
    "print(10/3, 3/10, 10//3, 3//10)# produce float"
   ]
  },
  {
   "cell_type": "code",
   "execution_count": 27,
   "metadata": {},
   "outputs": [
    {
     "name": "stdout",
     "output_type": "stream",
     "text": [
      "1 3\n"
     ]
    }
   ],
   "source": [
    "print(10%3, 3%10)# reminders"
   ]
  },
  {
   "cell_type": "code",
   "execution_count": 28,
   "metadata": {},
   "outputs": [
    {
     "name": "stdout",
     "output_type": "stream",
     "text": [
      "3.3333333333333335 0.3 3.0 0.0\n"
     ]
    }
   ],
   "source": [
    "print(10.0/3.0, 3.0/10.0, 10.0//3.0, 3//10.0)#float produces floats"
   ]
  },
  {
   "cell_type": "markdown",
   "metadata": {},
   "source": [
    "# 6/29 condition"
   ]
  },
  {
   "cell_type": "code",
   "execution_count": 29,
   "metadata": {},
   "outputs": [
    {
     "name": "stdout",
     "output_type": "stream",
     "text": [
      "10\n"
     ]
    }
   ],
   "source": [
    "x=5\n",
    "if x<10:\n",
    "    x=10\n",
    "print(x)"
   ]
  },
  {
   "cell_type": "code",
   "execution_count": 30,
   "metadata": {},
   "outputs": [],
   "source": [
    "if 0:#python consider 0 is false\n",
    "    print('0')"
   ]
  },
  {
   "cell_type": "code",
   "execution_count": 31,
   "metadata": {},
   "outputs": [
    {
     "name": "stdout",
     "output_type": "stream",
     "text": [
      "1\n"
     ]
    }
   ],
   "source": [
    "if 1:\n",
    "    print('1')"
   ]
  },
  {
   "cell_type": "code",
   "execution_count": 32,
   "metadata": {},
   "outputs": [],
   "source": [
    "if '':#pyhtn considers '' is false\n",
    "    print('false')"
   ]
  },
  {
   "cell_type": "code",
   "execution_count": 33,
   "metadata": {},
   "outputs": [
    {
     "name": "stdout",
     "output_type": "stream",
     "text": [
      "True\n"
     ]
    }
   ],
   "source": [
    "if '1':\n",
    "    print('True')"
   ]
  },
  {
   "cell_type": "code",
   "execution_count": 34,
   "metadata": {},
   "outputs": [],
   "source": [
    "if 0.0:# 0.0 is false\n",
    "    print('False')"
   ]
  },
  {
   "cell_type": "code",
   "execution_count": 36,
   "metadata": {},
   "outputs": [
    {
     "name": "stdout",
     "output_type": "stream",
     "text": [
      "True\n",
      "True\n",
      "True\n",
      "False\n"
     ]
    }
   ],
   "source": [
    "x=10\n",
    "y=20\n",
    "b=(x==10)\n",
    "print(b)\n",
    "b=(x==10 and y==20)\n",
    "print(b)\n",
    "b=(x==10 or y==20)\n",
    "print(b)\n",
    "b=(x!=10 or y!=20)\n",
    "print(b)"
   ]
  },
  {
   "cell_type": "code",
   "execution_count": 37,
   "metadata": {},
   "outputs": [
    {
     "data": {
      "text/plain": [
       "True"
      ]
     },
     "execution_count": 37,
     "metadata": {},
     "output_type": "execute_result"
    }
   ],
   "source": [
    "x!=y"
   ]
  },
  {
   "cell_type": "code",
   "execution_count": 39,
   "metadata": {},
   "outputs": [
    {
     "data": {
      "text/plain": [
       "True"
      ]
     },
     "execution_count": 39,
     "metadata": {},
     "output_type": "execute_result"
    }
   ],
   "source": [
    "x<y or x>y"
   ]
  },
  {
   "cell_type": "code",
   "execution_count": 40,
   "metadata": {},
   "outputs": [
    {
     "name": "stdout",
     "output_type": "stream",
     "text": [
      "15 is too large\n"
     ]
    }
   ],
   "source": [
    "x=15\n",
    "if x>=0:\n",
    "    if x<=10:\n",
    "        print(x, 'is in range')\n",
    "    else:\n",
    "        print(x, 'is too large')\n",
    "else:\n",
    "    print(x, 'is too small')"
   ]
  },
  {
   "cell_type": "code",
   "execution_count": 41,
   "metadata": {},
   "outputs": [
    {
     "name": "stdout",
     "output_type": "stream",
     "text": [
      "too large\n"
     ]
    }
   ],
   "source": [
    "if x<0:\n",
    "    print('too small')\n",
    "elif x==1:\n",
    "    print('One')\n",
    "elif x==2:\n",
    "    print('Two')\n",
    "else:\n",
    "    print('too large')"
   ]
  },
  {
   "cell_type": "code",
   "execution_count": 43,
   "metadata": {},
   "outputs": [
    {
     "name": "stdout",
     "output_type": "stream",
     "text": [
      "February23 or 23"
     ]
    }
   ],
   "source": [
    "month=2\n",
    "day=23\n",
    "if month==1:\n",
    "    print('January', end='')\n",
    "elif month==2:\n",
    "    print('February', end='')\n",
    "else:\n",
    "    print('else', end='')\n",
    "print(day, 'or', day, end='')\n"
   ]
  },
  {
   "cell_type": "code",
   "execution_count": 44,
   "metadata": {},
   "outputs": [
    {
     "data": {
      "text/plain": [
       "3"
      ]
     },
     "execution_count": 44,
     "metadata": {},
     "output_type": "execute_result"
    }
   ],
   "source": [
    "#absolute number\n",
    "n=-3\n",
    "-n if n<0 else n"
   ]
  },
  {
   "cell_type": "markdown",
   "metadata": {},
   "source": [
    "## iteration"
   ]
  },
  {
   "cell_type": "code",
   "execution_count": 45,
   "metadata": {},
   "outputs": [
    {
     "name": "stdout",
     "output_type": "stream",
     "text": [
      "1\n",
      "2\n",
      "3\n",
      "4\n",
      "5\n"
     ]
    }
   ],
   "source": [
    "#while loop needs three crucial parts: initiation: n=1, check: n<=5 and update: n+=1\n",
    "count=1#Initialize counter\n",
    "while count <=5:#should be continue?\n",
    "    print(count)#display\n",
    "    count+=1#increment counter"
   ]
  },
  {
   "cell_type": "code",
   "execution_count": 47,
   "metadata": {},
   "outputs": [
    {
     "name": "stdout",
     "output_type": "stream",
     "text": [
      "12345"
     ]
    }
   ],
   "source": [
    "for n in range(1,6): \n",
    "    print(n, end='')"
   ]
  },
  {
   "cell_type": "markdown",
   "metadata": {},
   "source": [
    "# 6/30 class"
   ]
  },
  {
   "cell_type": "code",
   "execution_count": 48,
   "metadata": {},
   "outputs": [
    {
     "data": {
      "text/plain": [
       "(3.0, -4.5)"
      ]
     },
     "execution_count": 48,
     "metadata": {},
     "output_type": "execute_result"
    }
   ],
   "source": [
    "# instantiation\n",
    "class Complex:\n",
    "    def __init__(self, realpart, imagpart):#method, new-created class instance object\n",
    "        self.r=realpart\n",
    "        self.i=imagpart\n",
    "        \n",
    "x=Complex(3.0, -4.5)#instance object\n",
    "x.r, x.i"
   ]
  },
  {
   "cell_type": "code",
   "execution_count": 52,
   "metadata": {},
   "outputs": [
    {
     "data": {
      "text/plain": [
       "12345"
      ]
     },
     "execution_count": 52,
     "metadata": {},
     "output_type": "execute_result"
    }
   ],
   "source": [
    "class MyClass:\n",
    "    \"\"\"A simple example class\"\"\"\n",
    "    i=12345\n",
    "    \n",
    "    def f(self):#method\n",
    "        return (\"hello\")\n",
    "MyClass.i"
   ]
  },
  {
   "cell_type": "code",
   "execution_count": 56,
   "metadata": {},
   "outputs": [
    {
     "data": {
      "text/plain": [
       "'hello'"
      ]
     },
     "execution_count": 56,
     "metadata": {},
     "output_type": "execute_result"
    }
   ],
   "source": [
    "x=MyClass()\n",
    "x.f()"
   ]
  },
  {
   "cell_type": "markdown",
   "metadata": {},
   "source": [
    "# 7/1"
   ]
  },
  {
   "cell_type": "markdown",
   "metadata": {},
   "source": [
    "## Functions"
   ]
  },
  {
   "cell_type": "code",
   "execution_count": 58,
   "metadata": {},
   "outputs": [
    {
     "data": {
      "text/plain": [
       "4"
      ]
     },
     "execution_count": 58,
     "metadata": {},
     "output_type": "execute_result"
    }
   ],
   "source": [
    "#find largest factor for two nums\n",
    "##there are three local variables: sml, larger and i. they only have meaning in local (within the block)\n",
    "def num (num1, num2):\n",
    "    #find the smaler one\n",
    "    if num1<=num2:\n",
    "        sml=num1\n",
    "    else:\n",
    "        sml=num2\n",
    "    \n",
    "    # find the factor\n",
    "    larger=1\n",
    "    for i in range(1,sml+1):\n",
    "        if num1%i==0 and num2%i==0:\n",
    "            larger=i #keep updating i \n",
    "    return larger\n",
    "\n",
    "num(4,8)# input actual parameters\n",
    "        "
   ]
  },
  {
   "cell_type": "code",
   "execution_count": 60,
   "metadata": {},
   "outputs": [
    {
     "data": {
      "text/plain": [
       "8"
      ]
     },
     "execution_count": 60,
     "metadata": {},
     "output_type": "execute_result"
    }
   ],
   "source": [
    "def num(num1, num2):\n",
    "    if num1<=num2:\n",
    "        slm=num1\n",
    "    else:\n",
    "        slm=num2\n",
    "    l=[]\n",
    "    for i in range (1, slm+1):\n",
    "        if num1%i==0 and num2%i==0:\n",
    "            l.append(i)\n",
    "    largest=max(l)\n",
    "    return largest\n",
    "num(8,16)"
   ]
  },
  {
   "cell_type": "code",
   "execution_count": 62,
   "metadata": {},
   "outputs": [
    {
     "data": {
      "text/plain": [
       "2"
      ]
     },
     "execution_count": 62,
     "metadata": {},
     "output_type": "execute_result"
    }
   ],
   "source": [
    "x=12\n",
    "num(x-2, 12)"
   ]
  },
  {
   "cell_type": "code",
   "execution_count": 63,
   "metadata": {},
   "outputs": [
    {
     "name": "stdout",
     "output_type": "stream",
     "text": [
      "Before increment, x= 5\n",
      "Begining execution of increment, x= 5\n",
      "Ending execution of increment x= 6\n",
      "After increment, x= 5\n"
     ]
    }
   ],
   "source": [
    "#parameter passing\n",
    "def increment(x):\n",
    "    print('Begining execution of increment, x=', x)\n",
    "    x+=1 #increment\n",
    "    print('Ending execution of increment x=',x)\n",
    "    \n",
    "def main():\n",
    "    x=5\n",
    "    print('Before increment, x=', x)\n",
    "    increment(x)\n",
    "    print('After increment, x=', x)\n",
    "    \n",
    "#call main function \n",
    "main()"
   ]
  },
  {
   "cell_type": "markdown",
   "metadata": {},
   "source": [
    "### string"
   ]
  },
  {
   "cell_type": "code",
   "execution_count": 64,
   "metadata": {},
   "outputs": [
    {
     "name": "stdout",
     "output_type": "stream",
     "text": [
      "  0                1\n",
      "  1               10\n",
      "  2              100\n",
      "  3             1000\n",
      "  4            10000\n",
      "  5           100000\n",
      "  6          1000000\n",
      "  7         10000000\n",
      "  8        100000000\n",
      "  9       1000000000\n",
      " 10      10000000000\n",
      " 11     100000000000\n",
      " 12    1000000000000\n",
      " 13   10000000000000\n",
      " 14  100000000000000\n",
      " 15 1000000000000000\n"
     ]
    }
   ],
   "source": [
    "print('{0:>3} {1:>16}'.format(0, 10**0)) #right adjust the postion to the right within a width of three characters and within 16 places\n",
    "print('{0:>3} {1:>16}'.format(1, 10**1))\n",
    "print('{0:>3} {1:>16}'.format(2, 10**2))\n",
    "print('{0:>3} {1:>16}'.format(3, 10**3))\n",
    "print('{0:>3} {1:>16}'.format(4, 10**4))\n",
    "print('{0:>3} {1:>16}'.format(5, 10**5))\n",
    "print('{0:>3} {1:>16}'.format(6, 10**6))\n",
    "print('{0:>3} {1:>16}'.format(7, 10**7))\n",
    "print('{0:>3} {1:>16}'.format(8, 10**8))\n",
    "print('{0:>3} {1:>16}'.format(9, 10**9))\n",
    "print('{0:>3} {1:>16}'.format(10, 10**10))\n",
    "print('{0:>3} {1:>16}'.format(11, 10**11))\n",
    "print('{0:>3} {1:>16}'.format(12, 10**12))\n",
    "print('{0:>3} {1:>16}'.format(13, 10**13))\n",
    "print('{0:>3} {1:>16}'.format(14, 10**14))\n",
    "print('{0:>3} {1:>16}'.format(15, 10**15))"
   ]
  },
  {
   "cell_type": "code",
   "execution_count": 67,
   "metadata": {},
   "outputs": [
    {
     "name": "stdout",
     "output_type": "stream",
     "text": [
      "0                1\n",
      "0                1\n",
      " 0                1\n",
      "  0                1\n"
     ]
    }
   ],
   "source": [
    "print('{0} {1:>16}'.format(0, 10**0))\n",
    "print('{0:>1} {1:>16}'.format(0, 10**0))\n",
    "print('{0:>2} {1:>16}'.format(0, 10**0))\n",
    "print('{0:>3} {1:>16}'.format(0, 10**0)) #start from position 2"
   ]
  },
  {
   "cell_type": "code",
   "execution_count": 65,
   "metadata": {},
   "outputs": [
    {
     "name": "stdout",
     "output_type": "stream",
     "text": [
      "0 1\n",
      "1 10\n",
      "2 100\n",
      "3 1000\n",
      "4 10000\n",
      "5 100000\n",
      "6 1000000\n",
      "7 10000000\n",
      "8 100000000\n",
      "9 1000000000\n",
      "10 10000000000\n",
      "11 100000000000\n",
      "12 1000000000000\n",
      "13 10000000000000\n"
     ]
    }
   ],
   "source": [
    "print('{0} {1}'.format(0, 10**0))# 0 and 1 are place holder, postion 0 and 1\n",
    "print('{0} {1}'.format(1, 10**1))\n",
    "print('{0} {1}'.format(2, 10**2))\n",
    "print('{0} {1}'.format(3, 10**3))\n",
    "print('{0} {1}'.format(4, 10**4))\n",
    "print('{0} {1}'.format(5, 10**5))\n",
    "print('{0} {1}'.format(6, 10**6))\n",
    "print('{0} {1}'.format(7, 10**7))\n",
    "print('{0} {1}'.format(8, 10**8))\n",
    "print('{0} {1}'.format(9, 10**9))\n",
    "print('{0} {1}'.format(10, 10**10))\n",
    "print('{0} {1}'.format(11, 10**11))\n",
    "print('{0} {1}'.format(12, 10**12))\n",
    "print('{0} {1}'.format(13, 10**13))"
   ]
  },
  {
   "cell_type": "code",
   "execution_count": null,
   "metadata": {},
   "outputs": [],
   "source": []
  }
 ],
 "metadata": {
  "kernelspec": {
   "display_name": "Python 3",
   "language": "python",
   "name": "python3"
  },
  "language_info": {
   "codemirror_mode": {
    "name": "ipython",
    "version": 3
   },
   "file_extension": ".py",
   "mimetype": "text/x-python",
   "name": "python",
   "nbconvert_exporter": "python",
   "pygments_lexer": "ipython3",
   "version": "3.7.3"
  }
 },
 "nbformat": 4,
 "nbformat_minor": 2
}
